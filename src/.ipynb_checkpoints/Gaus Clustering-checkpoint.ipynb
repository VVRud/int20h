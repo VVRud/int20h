{
 "cells": [
  {
   "cell_type": "code",
   "execution_count": 4,
   "metadata": {
    "ExecuteTime": {
     "end_time": "2019-02-23T17:38:02.546441Z",
     "start_time": "2019-02-23T17:38:02.543696Z"
    }
   },
   "outputs": [],
   "source": [
    "import pandas as pd\n",
    "from sklearn.cluster import DBSCAN, AgglomerativeClustering, KMeans\n",
    "from sklearn.mixture import GaussianMixture"
   ]
  },
  {
   "cell_type": "code",
   "execution_count": 15,
   "metadata": {
    "ExecuteTime": {
     "end_time": "2019-02-23T18:37:38.169399Z",
     "start_time": "2019-02-23T18:37:33.498660Z"
    }
   },
   "outputs": [],
   "source": [
    "df = pd.read_csv('../data/filtered.csv')"
   ]
  },
  {
   "cell_type": "code",
   "execution_count": 16,
   "metadata": {
    "ExecuteTime": {
     "end_time": "2019-02-23T18:37:38.269471Z",
     "start_time": "2019-02-23T18:37:38.256170Z"
    }
   },
   "outputs": [
    {
     "data": {
      "text/html": [
       "<div>\n",
       "<style scoped>\n",
       "    .dataframe tbody tr th:only-of-type {\n",
       "        vertical-align: middle;\n",
       "    }\n",
       "\n",
       "    .dataframe tbody tr th {\n",
       "        vertical-align: top;\n",
       "    }\n",
       "\n",
       "    .dataframe thead th {\n",
       "        text-align: right;\n",
       "    }\n",
       "</style>\n",
       "<table border=\"1\" class=\"dataframe\">\n",
       "  <thead>\n",
       "    <tr style=\"text-align: right;\">\n",
       "      <th></th>\n",
       "      <th>ride_id</th>\n",
       "      <th>created_at</th>\n",
       "      <th>pickup_lat</th>\n",
       "      <th>pickup_lng</th>\n",
       "      <th>dropoff_lat</th>\n",
       "      <th>dropoff_lng</th>\n",
       "      <th>user_id</th>\n",
       "      <th>driver_id</th>\n",
       "      <th>ride_distance</th>\n",
       "      <th>canceled_by_client</th>\n",
       "      <th>canceled_by_driver</th>\n",
       "      <th>ride_to_suburb</th>\n",
       "    </tr>\n",
       "  </thead>\n",
       "  <tbody>\n",
       "    <tr>\n",
       "      <th>0</th>\n",
       "      <td>000002b3a3014388a6c62fdda1d03de1n</td>\n",
       "      <td>2018-12-14 23:00:00.043</td>\n",
       "      <td>49.824671</td>\n",
       "      <td>24.013246</td>\n",
       "      <td>49.784729</td>\n",
       "      <td>24.060303</td>\n",
       "      <td>3900450045004500300042003700310037003800460031...</td>\n",
       "      <td>a429c637c1244bb7a1d606d2b9987bdd</td>\n",
       "      <td>7.97</td>\n",
       "      <td>0</td>\n",
       "      <td>0</td>\n",
       "      <td>0</td>\n",
       "    </tr>\n",
       "    <tr>\n",
       "      <th>1</th>\n",
       "      <td>000013de085e4be4a2cd27d9112f7bdbn</td>\n",
       "      <td>2018-10-13 23:59:00.580</td>\n",
       "      <td>49.837906</td>\n",
       "      <td>24.029772</td>\n",
       "      <td>49.841217</td>\n",
       "      <td>23.974363</td>\n",
       "      <td>6227785C7862375C7863623F5C7866652E285F2D5C7861...</td>\n",
       "      <td>NaN</td>\n",
       "      <td>5.62</td>\n",
       "      <td>1</td>\n",
       "      <td>0</td>\n",
       "      <td>0</td>\n",
       "    </tr>\n",
       "  </tbody>\n",
       "</table>\n",
       "</div>"
      ],
      "text/plain": [
       "                             ride_id               created_at  pickup_lat  \\\n",
       "0  000002b3a3014388a6c62fdda1d03de1n  2018-12-14 23:00:00.043   49.824671   \n",
       "1  000013de085e4be4a2cd27d9112f7bdbn  2018-10-13 23:59:00.580   49.837906   \n",
       "\n",
       "   pickup_lng  dropoff_lat  dropoff_lng  \\\n",
       "0   24.013246    49.784729    24.060303   \n",
       "1   24.029772    49.841217    23.974363   \n",
       "\n",
       "                                             user_id  \\\n",
       "0  3900450045004500300042003700310037003800460031...   \n",
       "1  6227785C7862375C7863623F5C7866652E285F2D5C7861...   \n",
       "\n",
       "                          driver_id  ride_distance  canceled_by_client  \\\n",
       "0  a429c637c1244bb7a1d606d2b9987bdd           7.97                   0   \n",
       "1                               NaN           5.62                   1   \n",
       "\n",
       "   canceled_by_driver  ride_to_suburb  \n",
       "0                   0               0  \n",
       "1                   0               0  "
      ]
     },
     "execution_count": 16,
     "metadata": {},
     "output_type": "execute_result"
    }
   ],
   "source": [
    "df.head(2)"
   ]
  },
  {
   "cell_type": "code",
   "execution_count": 17,
   "metadata": {
    "ExecuteTime": {
     "end_time": "2019-02-23T18:37:46.771863Z",
     "start_time": "2019-02-23T18:37:46.729024Z"
    }
   },
   "outputs": [],
   "source": [
    "X = np.append(df[['pickup_lat', 'pickup_lng']].values, df[['dropoff_lat', 'dropoff_lng']].values, axis=0)"
   ]
  },
  {
   "cell_type": "code",
   "execution_count": 18,
   "metadata": {
    "ExecuteTime": {
     "end_time": "2019-02-23T18:37:49.457089Z",
     "start_time": "2019-02-23T18:37:49.451782Z"
    }
   },
   "outputs": [
    {
     "data": {
      "text/plain": [
       "(2227230, 2)"
      ]
     },
     "execution_count": 18,
     "metadata": {},
     "output_type": "execute_result"
    }
   ],
   "source": [
    "X.shape"
   ]
  },
  {
   "cell_type": "code",
   "execution_count": 26,
   "metadata": {
    "ExecuteTime": {
     "end_time": "2019-02-23T19:07:34.123782Z",
     "start_time": "2019-02-23T19:07:34.120499Z"
    }
   },
   "outputs": [],
   "source": [
    "km = KMeans(n_clusters=30, n_jobs=-1, n_init=10)"
   ]
  },
  {
   "cell_type": "code",
   "execution_count": 27,
   "metadata": {
    "ExecuteTime": {
     "end_time": "2019-02-23T19:12:41.730866Z",
     "start_time": "2019-02-23T19:07:41.252981Z"
    }
   },
   "outputs": [
    {
     "data": {
      "text/plain": [
       "KMeans(algorithm='auto', copy_x=True, init='k-means++', max_iter=300,\n",
       "    n_clusters=30, n_init=10, n_jobs=-1, precompute_distances='auto',\n",
       "    random_state=None, tol=0.0001, verbose=0)"
      ]
     },
     "execution_count": 27,
     "metadata": {},
     "output_type": "execute_result"
    }
   ],
   "source": [
    "km.fit(X)"
   ]
  },
  {
   "cell_type": "code",
   "execution_count": 28,
   "metadata": {
    "ExecuteTime": {
     "end_time": "2019-02-23T19:12:42.869287Z",
     "start_time": "2019-02-23T19:12:41.823875Z"
    }
   },
   "outputs": [],
   "source": [
    "df['pickup_zone'] = km.predict(df[['pickup_lat', 'pickup_lng']])\n",
    "df['dropoff_zone'] = km.predict(df[['dropoff_lat', 'dropoff_lng']])"
   ]
  },
  {
   "cell_type": "code",
   "execution_count": 29,
   "metadata": {
    "ExecuteTime": {
     "end_time": "2019-02-23T19:13:00.022032Z",
     "start_time": "2019-02-23T19:12:42.983924Z"
    }
   },
   "outputs": [],
   "source": [
    "df.to_csv('../data/filtered_clustered.csv', sep=',', index=False)"
   ]
  },
  {
   "cell_type": "code",
   "execution_count": null,
   "metadata": {},
   "outputs": [],
   "source": []
  }
 ],
 "metadata": {
  "kernelspec": {
   "display_name": "Python 3",
   "language": "python",
   "name": "python3"
  },
  "language_info": {
   "codemirror_mode": {
    "name": "ipython",
    "version": 3
   },
   "file_extension": ".py",
   "mimetype": "text/x-python",
   "name": "python",
   "nbconvert_exporter": "python",
   "pygments_lexer": "ipython3",
   "version": "3.6.8"
  },
  "varInspector": {
   "cols": {
    "lenName": 16,
    "lenType": 16,
    "lenVar": 40
   },
   "kernels_config": {
    "python": {
     "delete_cmd_postfix": "",
     "delete_cmd_prefix": "del ",
     "library": "var_list.py",
     "varRefreshCmd": "print(var_dic_list())"
    },
    "r": {
     "delete_cmd_postfix": ") ",
     "delete_cmd_prefix": "rm(",
     "library": "var_list.r",
     "varRefreshCmd": "cat(var_dic_list()) "
    }
   },
   "types_to_exclude": [
    "module",
    "function",
    "builtin_function_or_method",
    "instance",
    "_Feature"
   ],
   "window_display": false
  }
 },
 "nbformat": 4,
 "nbformat_minor": 2
}
