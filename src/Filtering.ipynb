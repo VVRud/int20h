{
 "cells": [
  {
   "cell_type": "code",
   "execution_count": 1,
   "metadata": {
    "ExecuteTime": {
     "end_time": "2019-02-24T05:29:05.690480Z",
     "start_time": "2019-02-24T05:29:04.918458Z"
    }
   },
   "outputs": [],
   "source": [
    "import pandas as pd\n",
    "from sklearn.cluster import KMeans"
   ]
  },
  {
   "cell_type": "code",
   "execution_count": 2,
   "metadata": {
    "ExecuteTime": {
     "end_time": "2019-02-24T05:29:11.156279Z",
     "start_time": "2019-02-24T05:29:05.696965Z"
    }
   },
   "outputs": [],
   "source": [
    "df = pd.read_csv('../data/data_cleaned.csv')"
   ]
  },
  {
   "cell_type": "code",
   "execution_count": 3,
   "metadata": {
    "ExecuteTime": {
     "end_time": "2019-02-24T05:29:13.860656Z",
     "start_time": "2019-02-24T05:29:13.856905Z"
    }
   },
   "outputs": [],
   "source": [
    "cols = ['pickup_lat', 'pickup_lng', 'dropoff_lat', 'dropoff_lng']"
   ]
  },
  {
   "cell_type": "code",
   "execution_count": 4,
   "metadata": {
    "ExecuteTime": {
     "end_time": "2019-02-24T05:29:16.855148Z",
     "start_time": "2019-02-24T05:29:16.610367Z"
    }
   },
   "outputs": [],
   "source": [
    "Q1 = np.quantile(df[cols].values, 0.1, axis=0)\n",
    "Q3 = np.quantile(df[cols].values, 0.9, axis=0)\n",
    "IQR = Q3 - Q1"
   ]
  },
  {
   "cell_type": "code",
   "execution_count": 5,
   "metadata": {
    "ExecuteTime": {
     "end_time": "2019-02-24T05:29:20.513012Z",
     "start_time": "2019-02-24T05:29:20.503387Z"
    }
   },
   "outputs": [
    {
     "name": "stdout",
     "output_type": "stream",
     "text": [
      "Q1: [49.802639   23.98033714 49.79974365 23.97787475]\n",
      "Q3: [49.85716247 24.05643272 49.86032104 24.05977821]\n",
      "IQR: [0.05452347 0.07609558 0.06057739 0.08190346]\n"
     ]
    }
   ],
   "source": [
    "print('Q1: {}\\nQ3: {}\\nIQR: {}'.format(Q1, Q3, IQR))"
   ]
  },
  {
   "cell_type": "code",
   "execution_count": 6,
   "metadata": {
    "ExecuteTime": {
     "end_time": "2019-02-24T05:29:22.510601Z",
     "start_time": "2019-02-24T05:29:22.241978Z"
    }
   },
   "outputs": [],
   "source": [
    "df_n = df[~((df[cols] < (Q1 - 1.5 * IQR)) |(df[cols] > (Q3 + 1.5 * IQR))).any(axis=1)]"
   ]
  },
  {
   "cell_type": "code",
   "execution_count": 7,
   "metadata": {
    "ExecuteTime": {
     "end_time": "2019-02-24T05:29:29.224197Z",
     "start_time": "2019-02-24T05:29:29.214031Z"
    }
   },
   "outputs": [
    {
     "data": {
      "text/plain": [
       "3682"
      ]
     },
     "execution_count": 7,
     "metadata": {},
     "output_type": "execute_result"
    }
   ],
   "source": [
    "df.shape[0] - df_n.shape[0]"
   ]
  },
  {
   "cell_type": "code",
   "execution_count": 8,
   "metadata": {
    "ExecuteTime": {
     "end_time": "2019-02-24T05:29:30.516317Z",
     "start_time": "2019-02-24T05:29:30.367952Z"
    }
   },
   "outputs": [],
   "source": [
    "df_n = df_n.drop(columns=['Unnamed: 0'])"
   ]
  },
  {
   "cell_type": "code",
   "execution_count": 9,
   "metadata": {
    "ExecuteTime": {
     "end_time": "2019-02-24T05:29:48.651870Z",
     "start_time": "2019-02-24T05:29:32.431330Z"
    }
   },
   "outputs": [],
   "source": [
    "df_n.to_csv('../data/filtered.csv', sep=',', index=False)"
   ]
  },
  {
   "cell_type": "code",
   "execution_count": null,
   "metadata": {},
   "outputs": [],
   "source": []
  }
 ],
 "metadata": {
  "kernelspec": {
   "display_name": "Python 3",
   "language": "python",
   "name": "python3"
  },
  "language_info": {
   "codemirror_mode": {
    "name": "ipython",
    "version": 3
   },
   "file_extension": ".py",
   "mimetype": "text/x-python",
   "name": "python",
   "nbconvert_exporter": "python",
   "pygments_lexer": "ipython3",
   "version": "3.6.8"
  },
  "varInspector": {
   "cols": {
    "lenName": 16,
    "lenType": 16,
    "lenVar": 40
   },
   "kernels_config": {
    "python": {
     "delete_cmd_postfix": "",
     "delete_cmd_prefix": "del ",
     "library": "var_list.py",
     "varRefreshCmd": "print(var_dic_list())"
    },
    "r": {
     "delete_cmd_postfix": ") ",
     "delete_cmd_prefix": "rm(",
     "library": "var_list.r",
     "varRefreshCmd": "cat(var_dic_list()) "
    }
   },
   "types_to_exclude": [
    "module",
    "function",
    "builtin_function_or_method",
    "instance",
    "_Feature"
   ],
   "window_display": false
  }
 },
 "nbformat": 4,
 "nbformat_minor": 2
}
